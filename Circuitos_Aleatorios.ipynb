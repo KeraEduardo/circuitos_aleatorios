{
 "cells": [
  {
   "cell_type": "code",
   "execution_count": 2,
   "id": "8f4cd025-8bf8-412f-b8c1-764f5ce05941",
   "metadata": {},
   "outputs": [],
   "source": [
    "import pennylane as qml\n",
    "from pennylane import numpy as np\n",
    "import random"
   ]
  },
  {
   "cell_type": "code",
   "execution_count": 3,
   "id": "40ac8747-de5c-4173-bd97-4ed15b2d0354",
   "metadata": {},
   "outputs": [],
   "source": [
    "\"\"\"We begin by creating many dictionaries which contain some of the properties\n",
    "of each gate. Each key in the dictionary refers to a property we will be using to create\n",
    "the circuit. \n",
    "\n",
    "\"qub\": (int) number of quits the gate acts on\n",
    "\"parametrized\": (bool) tells us whether or not it is parametrized\n",
    "\"parameters\": (int) number of parameters it receives, if it is parametrized. 0 otherwise\n",
    "\"entangling\" (bool) whether or not a quantum gate induces entanglement.\n",
    "\n",
    "\"\"\"\n",
    "#Non-Parametric gates:\n",
    "Hadamard = {\"name\":qml.Hadamard, \"qub\":1, \"parametrized\":False, \"parameters\": 0, \"entangling\":False};\n",
    "PauliX = {\"name\":qml.PauliX, \"qub\":1, \"parametrized\":False, \"parameters\": 0, \"entangling\":False};\n",
    "PauliY = {\"name\":qml.PauliY, \"qub\":1, \"parametrized\":False, \"parameters\": 0, \"entangling\":False};\n",
    "PauliZ = {\"name\":qml.PauliZ, \"qub\":1, \"parametrized\":False, \"parameters\": 0, \"entangling\":False};\n",
    "CNOT = {\"name\":qml.CNOT, \"qub\":2, \"parametrized\":False, \"parameters\": 0, \"entangling\":False};\n",
    "\n",
    "# Parametrized gates\n",
    "RZ = {\"name\":qml.RZ, \"qub\":1, \"parametrized\":True, \"parameters\": 1, \"entangling\":False};\n",
    "RX = {\"name\":qml.RX, \"qub\":1, \"parametrized\":True, \"parameters\": 1, \"entangling\":False};\n",
    "RY = {\"name\":qml.RY, \"qub\":1, \"parametrized\":True, \"parameters\": 1, \"entangling\":False};\n",
    "CRZ = {\"name\":qml.CRZ, \"qub\":2, \"parametrized\":True, \"parameters\": 1, \"entangling\":True};\n",
    "CRX = {\"name\":qml.CRX, \"qub\":2, \"parametrized\":True, \"parameters\": 1, \"entangling\":True};\n",
    "CRY = {\"name\":qml.CRY, \"qub\":2, \"parametrized\":True, \"parameters\": 1, \"entangling\":True};\n",
    "SWAP = {\"name\":qml.SWAP, \"qub\":2, \"parametrized\":False, \"parameters\": 0, \"entangling\":False};\n",
    "T = {\"name\":qml.T, \"qub\":1, \"parametrized\":False, \"parameters\": 0, \"entangling\":False};\n",
    "\n",
    "# 3-qubit gates:\n",
    "CSWAP = {\"name\":qml.CSWAP, \"qub\":3, \"parametrized\":False, \"parameters\": 0, \"entangling\":True};\n",
    "TOFFOLI = {\"name\":qml.Toffoli, \"qub\":3, \"parametrized\":False, \"parameters\": 0, \"entangling\":True};\n",
    "\n"
   ]
  },
  {
   "cell_type": "markdown",
   "id": "cfd5dfa2-5126-43a0-bb3a-177657161942",
   "metadata": {},
   "source": [
    "Just as a reminder, we call a quantum gate entanglement-inducing if their action makes a state non-separable. Typically they come in the form of controlled-operations $C(G)$. In this case, their action is:\n",
    "    \n",
    "$$\n",
    "C(G)|a\\rangle |b\\rangle = |a\\rangle G^{(a)}|b\\rangle\n",
    "$$\n",
    "\n",
    "where $G$ is the controlled operation subject to the value of $|a\\rangle$. "
   ]
  },
  {
   "cell_type": "code",
   "execution_count": 5,
   "id": "28f0094a-fd45-4ac2-b0ff-b351e2a1ee6e",
   "metadata": {},
   "outputs": [],
   "source": [
    "\"\"\"\n",
    "We now construct a vector containing all possible gates that we can test.\n",
    "We call it \"compuertas\", due to thats how we call gates in Spanish\n",
    "\"\"\"\n",
    "\n",
    "compuertas = [Hadamard, PauliX, PauliY, PauliZ, CNOT, RZ, RX, RY, CRZ, CRX, CRY, SWAP, CSWAP, T, TOFFOLI] #All gates\n",
    "compuertas2 = [Hadamard, RZ, RX,RY, SWAP, T] #No entanglement-inducing gates\n",
    "compuertas3 = [TOFFOLI, CSWAP] #Only 3 qubit-gates"
   ]
  },
  {
   "cell_type": "code",
   "execution_count": 6,
   "id": "1530d9b3-ca5d-4171-b406-bf37e33aab42",
   "metadata": {},
   "outputs": [
    {
     "name": "stdout",
     "output_type": "stream",
     "text": [
      "0: ─╭●──────────────────────────╭●─────────────────────────────────────────────────╭●─╭SWAP\n",
      "1: ─╰RZ(-2.13)──────────────────│────────────────────────────────────────╭RY(0.36)─│──│────\n",
      "2: ─────────────────────────────│─────────────────────╭SWAP──Y───────────│─────────│──│────\n",
      "3: ────────────╭●───────────────│─────────────────────│──────────────────│─────────├●─│────\n",
      "4: ────────────│────────────────│─────────────────────│──────────────────│─────────│──│────\n",
      "5: ────────────│────────────────│─────────────────────├SWAP──────────────│─────────│──│────\n",
      "6: ─╭RY(0.52)──├SWAP────────────│──────────╭RX(-0.21)─│──────T───────────│─────────│──│────\n",
      "7: ─│──────────│──────RY(-0.49)─╰RX(-1.50)─│──────────│──────────────────│─────────╰X─│────\n",
      "8: ─╰●─────────│───────────────────────────╰●─────────│──────────────────│────────────╰SWAP\n",
      "9: ────────────╰SWAP──────────────────────────────────╰●─────Z──RX(2.98)─╰●────────────────\n",
      "\n",
      "──╭RX(1.94)──────────────────┤ ╭State\n",
      "──│──────────────────────────┤ ├State\n",
      "──│──────────────────────────┤ ├State\n",
      "──│──────────────────────────┤ ├State\n",
      "──│─────────╭●──RX(0.24)───Z─┤ ├State\n",
      "──│─────────│────────────────┤ ├State\n",
      "──│─────────│────────────────┤ ├State\n",
      "──╰●────────│───RY(-0.36)────┤ ├State\n",
      "────────────├X──X────────────┤ ├State\n",
      "────────────╰●───────────────┤ ╰State\n"
     ]
    }
   ],
   "source": [
    "\"\"\"\n",
    "In this cell, we write the function that creates a random circuit.\n",
    "Inputs:\n",
    "compuertas (list): a list containing the gates to use\n",
    "layers (int): the number of layers to apply to the circuit\n",
    "\"\"\"\n",
    "\n",
    "wires = 10\n",
    "dev = qml.device('default.qubit', wires=wires)\n",
    "@qml.qnode(dev)\n",
    "def random_circuit(compuertas, layers):\n",
    "    num_parameters = 0\n",
    "    for u in range(layers):\n",
    "        gate = random.choice(compuertas) #Select a random gate\n",
    "        wir = random.sample(range(wires), gate[\"qub\"])\n",
    "        if gate[\"parametrized\"]:\n",
    "            angle = random.choice(np.linspace(-np.pi, np.pi, 200))\n",
    "            gate[\"name\"](angle,wires = wir)\n",
    "            num_parameters = num_parameters + 1\n",
    "        else:\n",
    "            gate[\"name\"](wires = wir)\n",
    "            \n",
    "    #TODO: Add a function to eliminate redundant gates\n",
    "    \n",
    "    return qml.density_matrix(wires = range(wires))\n",
    "    \n",
    "print(qml.draw(random_circuit)(compuertas, layers = 20))\n"
   ]
  },
  {
   "cell_type": "markdown",
   "id": "a5693e6a-cf36-40e5-b022-6432f371c047",
   "metadata": {},
   "source": [
    "However, this function just adds **one** gate per layer. Let's build a more sophisticated function:"
   ]
  },
  {
   "cell_type": "markdown",
   "id": "30894edb-8291-4908-a89e-4b18f39f6129",
   "metadata": {},
   "source": [
    "What we can do is we can create a new function that creates a new **full** layer, this is, a layer where all qubits are being acted on. To do this, we create the function full_layer:\n",
    "\n",
    "Parameters: \n",
    "* compuertas: (array) which tells us which gates to sue\n",
    "* params: (array) to sue in case where we want to add parametrized layers\n",
    "* wires: (int) number of wires to act on\n",
    "* rand: (bool) whether or not we want to use random angles for our parametrized gates"
   ]
  },
  {
   "cell_type": "code",
   "execution_count": 45,
   "id": "d1c781cc-15d7-4fb6-8209-d8b2364f235e",
   "metadata": {},
   "outputs": [],
   "source": [
    "def full_layer(compuertas, params, wires, rand):\n",
    "    wires = [i for i in range(wires)]\n",
    "    assorted = random.sample(wires, len(wires)) #We choose wires on which to act on\n",
    "\n",
    "    #We choose theg ates!\n",
    "    choices = [] #Array to save the order of the gates\n",
    "    numero = 0 #Counter for the qubits\n",
    "    while numero < len(wires): #We iterate over the qubits\n",
    "        eleccion = random.choice(compuertas) #We choose which gates to use\n",
    "        choices.append(eleccion) #Vector of gates to apply\n",
    "        numero = numero + eleccion[\"qub\"] #Total number of qubits these gates act on\n",
    "        if numero > len(wires):\n",
    "            #We must reduce our gate count. Eliminate one that has ONE gate\n",
    "            eleccion = random.choice(range(len(choices))) #We randomly choose one that has one gate\n",
    "            numero = numero - choices[eleccion][\"qub\"]\n",
    "            choices.pop(eleccion)\n",
    "\n",
    "    #We now apply the gates!\n",
    "    for u in range(len(choices)): #We iterate over the applied gates\n",
    "        if choices[u][\"parametrized\"]:\n",
    "            if rand:\n",
    "                angle = random.choice(np.linspace(-np.pi, np.pi, 200)) #If we want a random angle\n",
    "            else: \n",
    "                angle = params[0: choices[u][\"parameters\"] ] #We select the angles from the parameters list. choices[u] tells us the number of angles to use\n",
    "                if type(angle) == list:\n",
    "                    angle = angle[0] #We get the angle i instead of [i]\n",
    "            \n",
    "            choices[u][\"name\"](angle, wires = assorted[u:u+ (choices[u][\"qub\"]) ])\n",
    "        else:\n",
    "            choices[u][\"name\"](wires = assorted[ u:u+ (choices[u][\"qub\"]) ] )\n",
    "            \n",
    "    #print(params)\n",
    "    params = params[choices[u][\"parameters\"]:] #We make our parameter vector smaller\n",
    "    #print(params)\n",
    "    return params"
   ]
  },
  {
   "cell_type": "markdown",
   "id": "c25b726d-e98c-4f0c-bea2-e1d61753fc0d",
   "metadata": {},
   "source": [
    "Note that this is **not** a function that creates a circuit, instead it returns an array which is reduced in size, thus layer by layer it goes using all the angles in the angle array. We then create a new quantum function called adding_layers, which adds full-layers and outputs the density_matrix of the "
   ]
  },
  {
   "cell_type": "code",
   "execution_count": 18,
   "id": "c0f80fc5-6a5b-4624-b156-1d033ae81910",
   "metadata": {},
   "outputs": [
    {
     "name": "stdout",
     "output_type": "stream",
     "text": [
      "Circuit with random angles sampled from -pi to pi:\n",
      "0: ─╭●────────────────────────╭X─────────╭●─────────H──────────────┤ ╭State\n",
      "1: ─│────────────────╭X─╭●────╰●─────────├X─────────────────────╭●─┤ ├State\n",
      "2: ─├SWAP──RY(-0.14)─│──│──────RZ(-1.09)─╰●─────────────────────│──┤ ├State\n",
      "3: ─│────────────────╰●─│─────╭RY(2.51)───RY(1.88)─╭●───────────├●─┤ ├State\n",
      "4: ─│───────────────────│─────│────────────────────│──────────T─│──┤ ├State\n",
      "5: ─│───────────────────├SWAP─╰●───────────────────│────────────│──┤ ├State\n",
      "6: ─╰SWAP──H────────────╰SWAP──Y───────────────────╰RX(0.27)──T─╰X─┤ ╰State\n"
     ]
    }
   ],
   "source": [
    "wires = 7\n",
    "dev = qml.device('default.qubit', wires=wires)\n",
    "@qml.qnode(dev)\n",
    "def adding_layers(compuertas, params, layers, randi, wires = wires):\n",
    "    parameters = params.copy() #We copy the initial vector parameter\n",
    "    for u in range(layers):\n",
    "        #_ = layer_by_layer(compuertas, params, rand = randi) #We go reducing the params vector\n",
    "        _ = full_layer(compuertas, params, wires = wires, rand = randi) #We go reducing the params vector\n",
    "        params = _\n",
    "    return qml.density_matrix(wires = range(wires))\n",
    "\n",
    "\n",
    "def layer_by_layer(compuertas, params, rand):\n",
    "    \"Esta función únicamente añade una sola compuerta por layer\"\n",
    "    gate = random.choice(compuertas) #Select a random gate\n",
    "    \n",
    "    if gate[\"qub\"]==1:\n",
    "        wir = random.choice(range(wires)) #Select a single random wire if gate is single qubit\n",
    "    else:\n",
    "        wir = random.sample(range(wires), gate[\"qub\"]) #Select random wires\n",
    "        \n",
    "    if gate[\"parametrized\"]:\n",
    "        if rand:\n",
    "            angle = random.choice(np.linspace(-np.pi, np.pi, 200)) #If we want a random angle\n",
    "        else: \n",
    "            angle = params[0: gate[\"parameters\"] ] #We select the angles\n",
    "            if type(angle) == list:\n",
    "                angle = angle[0] #We get the angle i instead of [i]\n",
    "        gate[\"name\"](angle,wires = wir)\n",
    "    else:\n",
    "        gate[\"name\"](wires = wir)\n",
    "        \n",
    "    params = params[gate[\"parameters\"]:] #We make our parameter vector smaller\n",
    "    return params\n",
    "        \n",
    "print(\"Circuit with random angles sampled from -pi to pi:\")\n",
    "print(qml.draw(adding_layers)(compuertas, params = [i for i in range(0,40)], layers = 4, randi = True))\n",
    "#qml.specs(adding_layers)(compuertas, params = [i for i in range(0,40)], layers = 4, randi = True)"
   ]
  },
  {
   "cell_type": "code",
   "execution_count": 19,
   "id": "ac025434-3029-4d67-b483-9966462f072a",
   "metadata": {},
   "outputs": [
    {
     "name": "stdout",
     "output_type": "stream",
     "text": [
      "Circuit with pre-established angles:\n",
      "0: ──Z────────────────────────────────────────────────────────────────╭RZ(2.00)──H─┤ ╭State\n",
      "1: ────╭●──Y────────╭●────────╭RY(1.00)──H────────────────────────────│──────────H─┤ ├State\n",
      "2: ────├●──RY(0.00)─│─────────╰●──────────────────────────────────────│────────────┤ ├State\n",
      "3: ────│────────────│─────────╭RY(0.00)─╭●─────────RZ(1.00)──Y────────│────────────┤ ├State\n",
      "4: ──H─│────────────│─────────│─────────│─────────╭●──────────────────╰●───────────┤ ├State\n",
      "5: ────╰X──X────────│─────────│─────────╰RZ(0.00)─│──────────RX(2.00)──────────────┤ ├State\n",
      "6: ─────────────────╰RX(0.00)─╰●──────────────────╰X─────────RZ(1.00)──RY(2.00)────┤ ╰State\n"
     ]
    }
   ],
   "source": [
    "print(\"Circuit with pre-established angles:\")\n",
    "print(qml.draw(adding_layers)(compuertas, params = [i for i in range(0,40)], layers = 4, randi = False))"
   ]
  },
  {
   "cell_type": "markdown",
   "id": "9d7217ff-8c0b-48c5-b1ec-9a3675a7f8f1",
   "metadata": {},
   "source": [
    "Then we can analyze the obtained quantum states obtained from these circuits. For this project we check the Renyi entropies:"
   ]
  },
  {
   "cell_type": "code",
   "execution_count": 43,
   "id": "9d6f30de-934e-4f83-81ff-e61f3ccde4a7",
   "metadata": {},
   "outputs": [],
   "source": [
    "def renyi(alpha, p):\n",
    "    rho = p\n",
    "    for u in range(alpha-1):\n",
    "        rho = rho@p\n",
    "    entropia = 1/(1-alpha)* np.log(np.trace(rho))\n",
    "    return entropia"
   ]
  },
  {
   "cell_type": "markdown",
   "id": "ffe845f3-c8df-4688-ac15-dfcdbff266cf",
   "metadata": {},
   "source": [
    "And now we analyze the behaviour of the renyi entropies according to circuits generated with or without entangling layers. We generate a number **trials** of states sampled from these quantum circuits and then apply check their entropies"
   ]
  },
  {
   "cell_type": "code",
   "execution_count": 58,
   "id": "45ffee28-c816-4a8c-9792-934146e5b590",
   "metadata": {},
   "outputs": [
    {
     "name": "stderr",
     "output_type": "stream",
     "text": [
      "/opt/conda/envs/pennylane/lib/python3.9/site-packages/matplotlib/collections.py:196: ComplexWarning:\n",
      "\n",
      "Casting complex values to real discards the imaginary part\n",
      "\n"
     ]
    },
    {
     "data": {
      "text/plain": [
       "Text(0.5, 1.0, 'Average Renyi entropies of random unitaries with 35 layers and random angles over 5 repetitions for each layer')"
      ]
     },
     "execution_count": 58,
     "metadata": {},
     "output_type": "execute_result"
    },
    {
     "data": {
      "image/png": "[encoded data removed]",
      "text/plain": [
       "<Figure size 640x480 with 1 Axes>"
      ]
     },
     "metadata": {},
     "output_type": "display_data"
    }
   ],
   "source": [
    "import matplotlib.pyplot as plt\n",
    "\n",
    "compuertas = [Hadamard, PauliX, PauliY, PauliZ, CNOT, CRZ, CRX, CRY, SWAP, T] #Gates containing entangling gates\n",
    "compuertas2 = [Hadamard, RZ, RX,RY, SWAP, T] #Gates NOT containing entangling layers\n",
    "\n",
    "entropias = []\n",
    "entropias2 = []\n",
    "layers = [i for i in range(0,35)]\n",
    "trials = 5 #How many circuits per layer?\n",
    "\n",
    "for u in layers:\n",
    "    so_far = 0\n",
    "    so_far2 = 0\n",
    "    for v in range(trials):\n",
    "        vect = adding_layers(compuertas, params = [i for i in range(0, 500)], layers = u, randi = True)\n",
    "        vect2 = adding_layers(compuertas2, params = [i for i in range(0, 500)], layers = u, randi = True)\n",
    "        so_far = so_far + renyi(2,vect) #Sum of entropies\n",
    "        so_far2 = so_far2 + renyi(2, vect2) #Sum of entropies\n",
    "    entropias.append(so_far/trials) #We save the average entropy\n",
    "    entropias2.append(so_far2/trials) #We save the average entropy\n",
    "\n",
    "plt.scatter(layers, entropias, label = \"With entangling layers\")\n",
    "plt.scatter(layers, entropias2, label = \"Just rotations\")\n",
    "plt.xlabel(\"Number of layers\")\n",
    "plt.ylabel(\"Second Rényi Entropy\")\n",
    "plt.legend()\n",
    "titulo = \"Average Renyi entropies of random unitaries with \" + str(max(layers)+1) + \" layers and random angles over \" + str(trials) + \" repetitions for each layer\"\n",
    "plt.title(titulo)"
   ]
  },
  {
   "cell_type": "code",
   "execution_count": 59,
   "id": "9cd6a05c-ce90-4afd-ae1f-c7d02d6ffaaf",
   "metadata": {},
   "outputs": [
    {
     "data": {
      "application/vnd.plotly.v1+json": {
       "config": {
        "plotlyServerURL": "https://plot.ly"
       },
       "data": [
        {
         "hovertemplate": "variable=Entangling<br>index=%{x}<br>value=%{y}<extra></extra>",
         "legendgroup": "Entangling",
         "line": {
          "color": "#636efa",
          "dash": "solid"
         },
         "marker": {
          "symbol": "circle"
         },
         "mode": "lines",
         "name": "Entangling",
         "orientation": "v",
         "showlegend": true,
         "type": "scatter",
         "x": [
          0,
          1,
          2,
          3,
          4,
          5,
          6,
          7,
          8,
          9,
          10,
          11,
          12,
          13,
          14,
          15,
          16,
          17,
          18,
          19,
          20,
          21,
          22,
          23,
          24,
          25,
          26,
          27,
          28,
          29,
          30,
          31,
          32,
          33,
          34
         ],
         "xaxis": "x",
         "y": [
          0,
          3.5527136788005026e-16,
          1.9984014443252826e-16,
          4.88498130835069e-16,
          8.881784197001258e-16,
          8.881784197001258e-16,
          8.659739592076228e-16,
          4.440892098500633e-16,
          1.421085471520202e-15,
          2.0206059048177876e-15,
          6.217248937900882e-16,
          1.2878587085651825e-15,
          2.1538326677728063e-15,
          2.2426505097428197e-15,
          2.819966482547902e-15,
          1.7541523789077494e-15,
          2.331468351712832e-15,
          3.796962744218043e-15,
          3.685940441755529e-15,
          1.6653345369377374e-15,
          2.708944180085386e-15,
          4.2410519540681086e-15,
          2.7755575615628957e-15,
          3.774758283725541e-15,
          2.886579864025412e-15,
          4.019007349143075e-15,
          2.86437540353291e-15,
          4.307665335545618e-15,
          5.1958437552457465e-15,
          4.840572387365695e-15,
          4.818367926873193e-15,
          5.928590951498356e-15,
          4.951594689828211e-15,
          4.218847493575605e-15,
          6.616929226765958e-15
         ],
         "yaxis": "y"
        },
        {
         "hovertemplate": "variable=Non-Entangling<br>index=%{x}<br>value=%{y}<extra></extra>",
         "legendgroup": "Non-Entangling",
         "line": {
          "color": "#EF553B",
          "dash": "solid"
         },
         "marker": {
          "symbol": "circle"
         },
         "mode": "lines",
         "name": "Non-Entangling",
         "orientation": "v",
         "showlegend": true,
         "type": "scatter",
         "x": [
          0,
          1,
          2,
          3,
          4,
          5,
          6,
          7,
          8,
          9,
          10,
          11,
          12,
          13,
          14,
          15,
          16,
          17,
          18,
          19,
          20,
          21,
          22,
          23,
          24,
          25,
          26,
          27,
          28,
          29,
          30,
          31,
          32,
          33,
          34
         ],
         "xaxis": "x",
         "y": [
          0,
          1.776356839400254e-16,
          3.9968028886505755e-16,
          1.7097434579227433e-15,
          9.547918011776354e-16,
          1.8651746813702654e-15,
          1.287858708565183e-15,
          2.287059430727828e-15,
          1.2656542480726799e-15,
          3.597122599785514e-15,
          1.5987211554602286e-15,
          3.6637359812630245e-15,
          3.0642155479654385e-15,
          -6.66133814775034e-17,
          4.9293902293357146e-15,
          4.551914400963155e-15,
          3.019806626980431e-15,
          4.729550084903181e-15,
          5.5733195836183035e-15,
          4.9960036108132226e-15,
          8.015810237793665e-15,
          5.417888360170782e-15,
          3.1086244689504466e-15,
          5.173639294753251e-15,
          6.417089082333429e-15,
          8.615330671091257e-15,
          5.817568649035846e-15,
          7.127631818093534e-15,
          8.615330671091255e-15,
          6.417089082333433e-15,
          8.992806499463818e-15,
          9.481304630298885e-15,
          6.683542608243468e-15,
          9.658940314238912e-15,
          7.949196856316153e-15
         ],
         "yaxis": "y"
        }
       ],
       "layout": {
        "legend": {
         "title": {
          "text": "variable"
         },
         "tracegroupgap": 0
        },
        "margin": {
         "t": 60
        },
        "template": {
         "data": {
          "bar": [
           {
            "error_x": {
             "color": "#2a3f5f"
            },
            "error_y": {
             "color": "#2a3f5f"
            },
            "marker": {
             "line": {
              "color": "#E5ECF6",
              "width": 0.5
             },
             "pattern": {
              "fillmode": "overlay",
              "size": 10,
              "solidity": 0.2
             }
            },
            "type": "bar"
           }
          ],
          "barpolar": [
           {
            "marker": {
             "line": {
              "color": "#E5ECF6",
              "width": 0.5
             },
             "pattern": {
              "fillmode": "overlay",
              "size": 10,
              "solidity": 0.2
             }
            },
            "type": "barpolar"
           }
          ],
          "carpet": [
           {
            "aaxis": {
             "endlinecolor": "#2a3f5f",
             "gridcolor": "white",
             "linecolor": "white",
             "minorgridcolor": "white",
             "startlinecolor": "#2a3f5f"
            },
            "baxis": {
             "endlinecolor": "#2a3f5f",
             "gridcolor": "white",
             "linecolor": "white",
             "minorgridcolor": "white",
             "startlinecolor": "#2a3f5f"
            },
            "type": "carpet"
           }
          ],
          "choropleth": [
           {
            "colorbar": {
             "outlinewidth": 0,
             "ticks": ""
            },
            "type": "choropleth"
           }
          ],
          "contour": [
           {
            "colorbar": {
             "outlinewidth": 0,
             "ticks": ""
            },
            "colorscale": [
             [
              0,
              "#0d0887"
             ],
             [
              0.1111111111111111,
              "#46039f"
             ],
             [
              0.2222222222222222,
              "#7201a8"
             ],
             [
              0.3333333333333333,
              "#9c179e"
             ],
             [
              0.4444444444444444,
              "#bd3786"
             ],
             [
              0.5555555555555556,
              "#d8576b"
             ],
             [
              0.6666666666666666,
              "#ed7953"
             ],
             [
              0.7777777777777778,
              "#fb9f3a"
             ],
             [
              0.8888888888888888,
              "#fdca26"
             ],
             [
              1,
              "#f0f921"
             ]
            ],
            "type": "contour"
           }
          ],
          "contourcarpet": [
           {
            "colorbar": {
             "outlinewidth": 0,
             "ticks": ""
            },
            "type": "contourcarpet"
           }
          ],
          "heatmap": [
           {
            "colorbar": {
             "outlinewidth": 0,
             "ticks": ""
            },
            "colorscale": [
             [
              0,
              "#0d0887"
             ],
             [
              0.1111111111111111,
              "#46039f"
             ],
             [
              0.2222222222222222,
              "#7201a8"
             ],
             [
              0.3333333333333333,
              "#9c179e"
             ],
             [
              0.4444444444444444,
              "#bd3786"
             ],
             [
              0.5555555555555556,
              "#d8576b"
             ],
             [
              0.6666666666666666,
              "#ed7953"
             ],
             [
              0.7777777777777778,
              "#fb9f3a"
             ],
             [
              0.8888888888888888,
              "#fdca26"
             ],
             [
              1,
              "#f0f921"
             ]
            ],
            "type": "heatmap"
           }
          ],
          "heatmapgl": [
           {
            "colorbar": {
             "outlinewidth": 0,
             "ticks": ""
            },
            "colorscale": [
             [
              0,
              "#0d0887"
             ],
             [
              0.1111111111111111,
              "#46039f"
             ],
             [
              0.2222222222222222,
              "#7201a8"
             ],
             [
              0.3333333333333333,
              "#9c179e"
             ],
             [
              0.4444444444444444,
              "#bd3786"
             ],
             [
              0.5555555555555556,
              "#d8576b"
             ],
             [
              0.6666666666666666,
              "#ed7953"
             ],
             [
              0.7777777777777778,
              "#fb9f3a"
             ],
             [
              0.8888888888888888,
              "#fdca26"
             ],
             [
              1,
              "#f0f921"
             ]
            ],
            "type": "heatmapgl"
           }
          ],
          "histogram": [
           {
            "marker": {
             "pattern": {
              "fillmode": "overlay",
              "size": 10,
              "solidity": 0.2
             }
            },
            "type": "histogram"
           }
          ],
          "histogram2d": [
           {
            "colorbar": {
             "outlinewidth": 0,
             "ticks": ""
            },
            "colorscale": [
             [
              0,
              "#0d0887"
             ],
             [
              0.1111111111111111,
              "#46039f"
             ],
             [
              0.2222222222222222,
              "#7201a8"
             ],
             [
              0.3333333333333333,
              "#9c179e"
             ],
             [
              0.4444444444444444,
              "#bd3786"
             ],
             [
              0.5555555555555556,
              "#d8576b"
             ],
             [
              0.6666666666666666,
              "#ed7953"
             ],
             [
              0.7777777777777778,
              "#fb9f3a"
             ],
             [
              0.8888888888888888,
              "#fdca26"
             ],
             [
              1,
              "#f0f921"
             ]
            ],
            "type": "histogram2d"
           }
          ],
          "histogram2dcontour": [
           {
            "colorbar": {
             "outlinewidth": 0,
             "ticks": ""
            },
            "colorscale": [
             [
              0,
              "#0d0887"
             ],
             [
              0.1111111111111111,
              "#46039f"
             ],
             [
              0.2222222222222222,
              "#7201a8"
             ],
             [
              0.3333333333333333,
              "#9c179e"
             ],
             [
              0.4444444444444444,
              "#bd3786"
             ],
             [
              0.5555555555555556,
              "#d8576b"
             ],
             [
              0.6666666666666666,
              "#ed7953"
             ],
             [
              0.7777777777777778,
              "#fb9f3a"
             ],
             [
              0.8888888888888888,
              "#fdca26"
             ],
             [
              1,
              "#f0f921"
             ]
            ],
            "type": "histogram2dcontour"
           }
          ],
          "mesh3d": [
           {
            "colorbar": {
             "outlinewidth": 0,
             "ticks": ""
            },
            "type": "mesh3d"
           }
          ],
          "parcoords": [
           {
            "line": {
             "colorbar": {
              "outlinewidth": 0,
              "ticks": ""
             }
            },
            "type": "parcoords"
           }
          ],
          "pie": [
           {
            "automargin": true,
            "type": "pie"
           }
          ],
          "scatter": [
           {
            "fillpattern": {
             "fillmode": "overlay",
             "size": 10,
             "solidity": 0.2
            },
            "type": "scatter"
           }
          ],
          "scatter3d": [
           {
            "line": {
             "colorbar": {
              "outlinewidth": 0,
              "ticks": ""
             }
            },
            "marker": {
             "colorbar": {
              "outlinewidth": 0,
              "ticks": ""
             }
            },
            "type": "scatter3d"
           }
          ],
          "scattercarpet": [
           {
            "marker": {
             "colorbar": {
              "outlinewidth": 0,
              "ticks": ""
             }
            },
            "type": "scattercarpet"
           }
          ],
          "scattergeo": [
           {
            "marker": {
             "colorbar": {
              "outlinewidth": 0,
              "ticks": ""
             }
            },
            "type": "scattergeo"
           }
          ],
          "scattergl": [
           {
            "marker": {
             "colorbar": {
              "outlinewidth": 0,
              "ticks": ""
             }
            },
            "type": "scattergl"
           }
          ],
          "scattermapbox": [
           {
            "marker": {
             "colorbar": {
              "outlinewidth": 0,
              "ticks": ""
             }
            },
            "type": "scattermapbox"
           }
          ],
          "scatterpolar": [
           {
            "marker": {
             "colorbar": {
              "outlinewidth": 0,
              "ticks": ""
             }
            },
            "type": "scatterpolar"
           }
          ],
          "scatterpolargl": [
           {
            "marker": {
             "colorbar": {
              "outlinewidth": 0,
              "ticks": ""
             }
            },
            "type": "scatterpolargl"
           }
          ],
          "scatterternary": [
           {
            "marker": {
             "colorbar": {
              "outlinewidth": 0,
              "ticks": ""
             }
            },
            "type": "scatterternary"
           }
          ],
          "surface": [
           {
            "colorbar": {
             "outlinewidth": 0,
             "ticks": ""
            },
            "colorscale": [
             [
              0,
              "#0d0887"
             ],
             [
              0.1111111111111111,
              "#46039f"
             ],
             [
              0.2222222222222222,
              "#7201a8"
             ],
             [
              0.3333333333333333,
              "#9c179e"
             ],
             [
              0.4444444444444444,
              "#bd3786"
             ],
             [
              0.5555555555555556,
              "#d8576b"
             ],
             [
              0.6666666666666666,
              "#ed7953"
             ],
             [
              0.7777777777777778,
              "#fb9f3a"
             ],
             [
              0.8888888888888888,
              "#fdca26"
             ],
             [
              1,
              "#f0f921"
             ]
            ],
            "type": "surface"
           }
          ],
          "table": [
           {
            "cells": {
             "fill": {
              "color": "#EBF0F8"
             },
             "line": {
              "color": "white"
             }
            },
            "header": {
             "fill": {
              "color": "#C8D4E3"
             },
             "line": {
              "color": "white"
             }
            },
            "type": "table"
           }
          ]
         },
         "layout": {
          "annotationdefaults": {
           "arrowcolor": "#2a3f5f",
           "arrowhead": 0,
           "arrowwidth": 1
          },
          "autotypenumbers": "strict",
          "coloraxis": {
           "colorbar": {
            "outlinewidth": 0,
            "ticks": ""
           }
          },
          "colorscale": {
           "diverging": [
            [
             0,
             "#8e0152"
            ],
            [
             0.1,
             "#c51b7d"
            ],
            [
             0.2,
             "#de77ae"
            ],
            [
             0.3,
             "#f1b6da"
            ],
            [
             0.4,
             "#fde0ef"
            ],
            [
             0.5,
             "#f7f7f7"
            ],
            [
             0.6,
             "#e6f5d0"
            ],
            [
             0.7,
             "#b8e186"
            ],
            [
             0.8,
             "#7fbc41"
            ],
            [
             0.9,
             "#4d9221"
            ],
            [
             1,
             "#276419"
            ]
           ],
           "sequential": [
            [
             0,
             "#0d0887"
            ],
            [
             0.1111111111111111,
             "#46039f"
            ],
            [
             0.2222222222222222,
             "#7201a8"
            ],
            [
             0.3333333333333333,
             "#9c179e"
            ],
            [
             0.4444444444444444,
             "#bd3786"
            ],
            [
             0.5555555555555556,
             "#d8576b"
            ],
            [
             0.6666666666666666,
             "#ed7953"
            ],
            [
             0.7777777777777778,
             "#fb9f3a"
            ],
            [
             0.8888888888888888,
             "#fdca26"
            ],
            [
             1,
             "#f0f921"
            ]
           ],
           "sequentialminus": [
            [
             0,
             "#0d0887"
            ],
            [
             0.1111111111111111,
             "#46039f"
            ],
            [
             0.2222222222222222,
             "#7201a8"
            ],
            [
             0.3333333333333333,
             "#9c179e"
            ],
            [
             0.4444444444444444,
             "#bd3786"
            ],
            [
             0.5555555555555556,
             "#d8576b"
            ],
            [
             0.6666666666666666,
             "#ed7953"
            ],
            [
             0.7777777777777778,
             "#fb9f3a"
            ],
            [
             0.8888888888888888,
             "#fdca26"
            ],
            [
             1,
             "#f0f921"
            ]
           ]
          },
          "colorway": [
           "#636efa",
           "#EF553B",
           "#00cc96",
           "#ab63fa",
           "#FFA15A",
           "#19d3f3",
           "#FF6692",
           "#B6E880",
           "#FF97FF",
           "#FECB52"
          ],
          "font": {
           "color": "#2a3f5f"
          },
          "geo": {
           "bgcolor": "white",
           "lakecolor": "white",
           "landcolor": "#E5ECF6",
           "showlakes": true,
           "showland": true,
           "subunitcolor": "white"
          },
          "hoverlabel": {
           "align": "left"
          },
          "hovermode": "closest",
          "mapbox": {
           "style": "light"
          },
          "paper_bgcolor": "white",
          "plot_bgcolor": "#E5ECF6",
          "polar": {
           "angularaxis": {
            "gridcolor": "white",
            "linecolor": "white",
            "ticks": ""
           },
           "bgcolor": "#E5ECF6",
           "radialaxis": {
            "gridcolor": "white",
            "linecolor": "white",
            "ticks": ""
           }
          },
          "scene": {
           "xaxis": {
            "backgroundcolor": "#E5ECF6",
            "gridcolor": "white",
            "gridwidth": 2,
            "linecolor": "white",
            "showbackground": true,
            "ticks": "",
            "zerolinecolor": "white"
           },
           "yaxis": {
            "backgroundcolor": "#E5ECF6",
            "gridcolor": "white",
            "gridwidth": 2,
            "linecolor": "white",
            "showbackground": true,
            "ticks": "",
            "zerolinecolor": "white"
           },
           "zaxis": {
            "backgroundcolor": "#E5ECF6",
            "gridcolor": "white",
            "gridwidth": 2,
            "linecolor": "white",
            "showbackground": true,
            "ticks": "",
            "zerolinecolor": "white"
           }
          },
          "shapedefaults": {
           "line": {
            "color": "#2a3f5f"
           }
          },
          "ternary": {
           "aaxis": {
            "gridcolor": "white",
            "linecolor": "white",
            "ticks": ""
           },
           "baxis": {
            "gridcolor": "white",
            "linecolor": "white",
            "ticks": ""
           },
           "bgcolor": "#E5ECF6",
           "caxis": {
            "gridcolor": "white",
            "linecolor": "white",
            "ticks": ""
           }
          },
          "title": {
           "x": 0.05
          },
          "xaxis": {
           "automargin": true,
           "gridcolor": "white",
           "linecolor": "white",
           "ticks": "",
           "title": {
            "standoff": 15
           },
           "zerolinecolor": "white",
           "zerolinewidth": 2
          },
          "yaxis": {
           "automargin": true,
           "gridcolor": "white",
           "linecolor": "white",
           "ticks": "",
           "title": {
            "standoff": 15
           },
           "zerolinecolor": "white",
           "zerolinewidth": 2
          }
         }
        },
        "xaxis": {
         "anchor": "y",
         "domain": [
          0,
          1
         ],
         "title": {
          "text": "index"
         }
        },
        "yaxis": {
         "anchor": "x",
         "domain": [
          0,
          1
         ],
         "title": {
          "text": "value"
         }
        }
       }
      },
      "text/html": [
       "<div>                            <div id=\"605659e6-72a3-446f-8184-56d5069d3282\" class=\"plotly-graph-div\" style=\"height:525px; width:100%;\"></div>            <script type=\"text/javascript\">                require([\"plotly\"], function(Plotly) {                    window.PLOTLYENV=window.PLOTLYENV || {};                                    if (document.getElementById(\"605659e6-72a3-446f-8184-56d5069d3282\")) {                    Plotly.newPlot(                        \"605659e6-72a3-446f-8184-56d5069d3282\",                        [{\"hovertemplate\":\"variable=Entangling<br>index=%{x}<br>value=%{y}<extra></extra>\",\"legendgroup\":\"Entangling\",\"line\":{\"color\":\"#636efa\",\"dash\":\"solid\"},\"marker\":{\"symbol\":\"circle\"},\"mode\":\"lines\",\"name\":\"Entangling\",\"orientation\":\"v\",\"showlegend\":true,\"x\":[0,1,2,3,4,5,6,7,8,9,10,11,12,13,14,15,16,17,18,19,20,21,22,23,24,25,26,27,28,29,30,31,32,33,34],\"xaxis\":\"x\",\"y\":[0.0,3.5527136788005026e-16,1.9984014443252826e-16,4.88498130835069e-16,8.881784197001258e-16,8.881784197001258e-16,8.659739592076228e-16,4.440892098500633e-16,1.421085471520202e-15,2.0206059048177876e-15,6.217248937900882e-16,1.2878587085651825e-15,2.1538326677728063e-15,2.2426505097428197e-15,2.819966482547902e-15,1.7541523789077494e-15,2.331468351712832e-15,3.796962744218043e-15,3.685940441755529e-15,1.6653345369377374e-15,2.708944180085386e-15,4.2410519540681086e-15,2.7755575615628957e-15,3.774758283725541e-15,2.886579864025412e-15,4.019007349143075e-15,2.86437540353291e-15,4.307665335545618e-15,5.1958437552457465e-15,4.840572387365695e-15,4.818367926873193e-15,5.928590951498356e-15,4.951594689828211e-15,4.218847493575605e-15,6.616929226765958e-15],\"yaxis\":\"y\",\"type\":\"scatter\"},{\"hovertemplate\":\"variable=Non-Entangling<br>index=%{x}<br>value=%{y}<extra></extra>\",\"legendgroup\":\"Non-Entangling\",\"line\":{\"color\":\"#EF553B\",\"dash\":\"solid\"},\"marker\":{\"symbol\":\"circle\"},\"mode\":\"lines\",\"name\":\"Non-Entangling\",\"orientation\":\"v\",\"showlegend\":true,\"x\":[0,1,2,3,4,5,6,7,8,9,10,11,12,13,14,15,16,17,18,19,20,21,22,23,24,25,26,27,28,29,30,31,32,33,34],\"xaxis\":\"x\",\"y\":[0.0,1.776356839400254e-16,3.9968028886505755e-16,1.7097434579227433e-15,9.547918011776354e-16,1.8651746813702654e-15,1.287858708565183e-15,2.287059430727828e-15,1.2656542480726799e-15,3.597122599785514e-15,1.5987211554602286e-15,3.6637359812630245e-15,3.0642155479654385e-15,-6.66133814775034e-17,4.9293902293357146e-15,4.551914400963155e-15,3.019806626980431e-15,4.729550084903181e-15,5.5733195836183035e-15,4.9960036108132226e-15,8.015810237793665e-15,5.417888360170782e-15,3.1086244689504466e-15,5.173639294753251e-15,6.417089082333429e-15,8.615330671091257e-15,5.817568649035846e-15,7.127631818093534e-15,8.615330671091255e-15,6.417089082333433e-15,8.992806499463818e-15,9.481304630298885e-15,6.683542608243468e-15,9.658940314238912e-15,7.949196856316153e-15],\"yaxis\":\"y\",\"type\":\"scatter\"}],                        {\"template\":{\"data\":{\"histogram2dcontour\":[{\"type\":\"histogram2dcontour\",\"colorbar\":{\"outlinewidth\":0,\"ticks\":\"\"},\"colorscale\":[[0.0,\"#0d0887\"],[0.1111111111111111,\"#46039f\"],[0.2222222222222222,\"#7201a8\"],[0.3333333333333333,\"#9c179e\"],[0.4444444444444444,\"#bd3786\"],[0.5555555555555556,\"#d8576b\"],[0.6666666666666666,\"#ed7953\"],[0.7777777777777778,\"#fb9f3a\"],[0.8888888888888888,\"#fdca26\"],[1.0,\"#f0f921\"]]}],\"choropleth\":[{\"type\":\"choropleth\",\"colorbar\":{\"outlinewidth\":0,\"ticks\":\"\"}}],\"histogram2d\":[{\"type\":\"histogram2d\",\"colorbar\":{\"outlinewidth\":0,\"ticks\":\"\"},\"colorscale\":[[0.0,\"#0d0887\"],[0.1111111111111111,\"#46039f\"],[0.2222222222222222,\"#7201a8\"],[0.3333333333333333,\"#9c179e\"],[0.4444444444444444,\"#bd3786\"],[0.5555555555555556,\"#d8576b\"],[0.6666666666666666,\"#ed7953\"],[0.7777777777777778,\"#fb9f3a\"],[0.8888888888888888,\"#fdca26\"],[1.0,\"#f0f921\"]]}],\"heatmap\":[{\"type\":\"heatmap\",\"colorbar\":{\"outlinewidth\":0,\"ticks\":\"\"},\"colorscale\":[[0.0,\"#0d0887\"],[0.1111111111111111,\"#46039f\"],[0.2222222222222222,\"#7201a8\"],[0.3333333333333333,\"#9c179e\"],[0.4444444444444444,\"#bd3786\"],[0.5555555555555556,\"#d8576b\"],[0.6666666666666666,\"#ed7953\"],[0.7777777777777778,\"#fb9f3a\"],[0.8888888888888888,\"#fdca26\"],[1.0,\"#f0f921\"]]}],\"heatmapgl\":[{\"type\":\"heatmapgl\",\"colorbar\":{\"outlinewidth\":0,\"ticks\":\"\"},\"colorscale\":[[0.0,\"#0d0887\"],[0.1111111111111111,\"#46039f\"],[0.2222222222222222,\"#7201a8\"],[0.3333333333333333,\"#9c179e\"],[0.4444444444444444,\"#bd3786\"],[0.5555555555555556,\"#d8576b\"],[0.6666666666666666,\"#ed7953\"],[0.7777777777777778,\"#fb9f3a\"],[0.8888888888888888,\"#fdca26\"],[1.0,\"#f0f921\"]]}],\"contourcarpet\":[{\"type\":\"contourcarpet\",\"colorbar\":{\"outlinewidth\":0,\"ticks\":\"\"}}],\"contour\":[{\"type\":\"contour\",\"colorbar\":{\"outlinewidth\":0,\"ticks\":\"\"},\"colorscale\":[[0.0,\"#0d0887\"],[0.1111111111111111,\"#46039f\"],[0.2222222222222222,\"#7201a8\"],[0.3333333333333333,\"#9c179e\"],[0.4444444444444444,\"#bd3786\"],[0.5555555555555556,\"#d8576b\"],[0.6666666666666666,\"#ed7953\"],[0.7777777777777778,\"#fb9f3a\"],[0.8888888888888888,\"#fdca26\"],[1.0,\"#f0f921\"]]}],\"surface\":[{\"type\":\"surface\",\"colorbar\":{\"outlinewidth\":0,\"ticks\":\"\"},\"colorscale\":[[0.0,\"#0d0887\"],[0.1111111111111111,\"#46039f\"],[0.2222222222222222,\"#7201a8\"],[0.3333333333333333,\"#9c179e\"],[0.4444444444444444,\"#bd3786\"],[0.5555555555555556,\"#d8576b\"],[0.6666666666666666,\"#ed7953\"],[0.7777777777777778,\"#fb9f3a\"],[0.8888888888888888,\"#fdca26\"],[1.0,\"#f0f921\"]]}],\"mesh3d\":[{\"type\":\"mesh3d\",\"colorbar\":{\"outlinewidth\":0,\"ticks\":\"\"}}],\"scatter\":[{\"fillpattern\":{\"fillmode\":\"overlay\",\"size\":10,\"solidity\":0.2},\"type\":\"scatter\"}],\"parcoords\":[{\"type\":\"parcoords\",\"line\":{\"colorbar\":{\"outlinewidth\":0,\"ticks\":\"\"}}}],\"scatterpolargl\":[{\"type\":\"scatterpolargl\",\"marker\":{\"colorbar\":{\"outlinewidth\":0,\"ticks\":\"\"}}}],\"bar\":[{\"error_x\":{\"color\":\"#2a3f5f\"},\"error_y\":{\"color\":\"#2a3f5f\"},\"marker\":{\"line\":{\"color\":\"#E5ECF6\",\"width\":0.5},\"pattern\":{\"fillmode\":\"overlay\",\"size\":10,\"solidity\":0.2}},\"type\":\"bar\"}],\"scattergeo\":[{\"type\":\"scattergeo\",\"marker\":{\"colorbar\":{\"outlinewidth\":0,\"ticks\":\"\"}}}],\"scatterpolar\":[{\"type\":\"scatterpolar\",\"marker\":{\"colorbar\":{\"outlinewidth\":0,\"ticks\":\"\"}}}],\"histogram\":[{\"marker\":{\"pattern\":{\"fillmode\":\"overlay\",\"size\":10,\"solidity\":0.2}},\"type\":\"histogram\"}],\"scattergl\":[{\"type\":\"scattergl\",\"marker\":{\"colorbar\":{\"outlinewidth\":0,\"ticks\":\"\"}}}],\"scatter3d\":[{\"type\":\"scatter3d\",\"line\":{\"colorbar\":{\"outlinewidth\":0,\"ticks\":\"\"}},\"marker\":{\"colorbar\":{\"outlinewidth\":0,\"ticks\":\"\"}}}],\"scattermapbox\":[{\"type\":\"scattermapbox\",\"marker\":{\"colorbar\":{\"outlinewidth\":0,\"ticks\":\"\"}}}],\"scatterternary\":[{\"type\":\"scatterternary\",\"marker\":{\"colorbar\":{\"outlinewidth\":0,\"ticks\":\"\"}}}],\"scattercarpet\":[{\"type\":\"scattercarpet\",\"marker\":{\"colorbar\":{\"outlinewidth\":0,\"ticks\":\"\"}}}],\"carpet\":[{\"aaxis\":{\"endlinecolor\":\"#2a3f5f\",\"gridcolor\":\"white\",\"linecolor\":\"white\",\"minorgridcolor\":\"white\",\"startlinecolor\":\"#2a3f5f\"},\"baxis\":{\"endlinecolor\":\"#2a3f5f\",\"gridcolor\":\"white\",\"linecolor\":\"white\",\"minorgridcolor\":\"white\",\"startlinecolor\":\"#2a3f5f\"},\"type\":\"carpet\"}],\"table\":[{\"cells\":{\"fill\":{\"color\":\"#EBF0F8\"},\"line\":{\"color\":\"white\"}},\"header\":{\"fill\":{\"color\":\"#C8D4E3\"},\"line\":{\"color\":\"white\"}},\"type\":\"table\"}],\"barpolar\":[{\"marker\":{\"line\":{\"color\":\"#E5ECF6\",\"width\":0.5},\"pattern\":{\"fillmode\":\"overlay\",\"size\":10,\"solidity\":0.2}},\"type\":\"barpolar\"}],\"pie\":[{\"automargin\":true,\"type\":\"pie\"}]},\"layout\":{\"autotypenumbers\":\"strict\",\"colorway\":[\"#636efa\",\"#EF553B\",\"#00cc96\",\"#ab63fa\",\"#FFA15A\",\"#19d3f3\",\"#FF6692\",\"#B6E880\",\"#FF97FF\",\"#FECB52\"],\"font\":{\"color\":\"#2a3f5f\"},\"hovermode\":\"closest\",\"hoverlabel\":{\"align\":\"left\"},\"paper_bgcolor\":\"white\",\"plot_bgcolor\":\"#E5ECF6\",\"polar\":{\"bgcolor\":\"#E5ECF6\",\"angularaxis\":{\"gridcolor\":\"white\",\"linecolor\":\"white\",\"ticks\":\"\"},\"radialaxis\":{\"gridcolor\":\"white\",\"linecolor\":\"white\",\"ticks\":\"\"}},\"ternary\":{\"bgcolor\":\"#E5ECF6\",\"aaxis\":{\"gridcolor\":\"white\",\"linecolor\":\"white\",\"ticks\":\"\"},\"baxis\":{\"gridcolor\":\"white\",\"linecolor\":\"white\",\"ticks\":\"\"},\"caxis\":{\"gridcolor\":\"white\",\"linecolor\":\"white\",\"ticks\":\"\"}},\"coloraxis\":{\"colorbar\":{\"outlinewidth\":0,\"ticks\":\"\"}},\"colorscale\":{\"sequential\":[[0.0,\"#0d0887\"],[0.1111111111111111,\"#46039f\"],[0.2222222222222222,\"#7201a8\"],[0.3333333333333333,\"#9c179e\"],[0.4444444444444444,\"#bd3786\"],[0.5555555555555556,\"#d8576b\"],[0.6666666666666666,\"#ed7953\"],[0.7777777777777778,\"#fb9f3a\"],[0.8888888888888888,\"#fdca26\"],[1.0,\"#f0f921\"]],\"sequentialminus\":[[0.0,\"#0d0887\"],[0.1111111111111111,\"#46039f\"],[0.2222222222222222,\"#7201a8\"],[0.3333333333333333,\"#9c179e\"],[0.4444444444444444,\"#bd3786\"],[0.5555555555555556,\"#d8576b\"],[0.6666666666666666,\"#ed7953\"],[0.7777777777777778,\"#fb9f3a\"],[0.8888888888888888,\"#fdca26\"],[1.0,\"#f0f921\"]],\"diverging\":[[0,\"#8e0152\"],[0.1,\"#c51b7d\"],[0.2,\"#de77ae\"],[0.3,\"#f1b6da\"],[0.4,\"#fde0ef\"],[0.5,\"#f7f7f7\"],[0.6,\"#e6f5d0\"],[0.7,\"#b8e186\"],[0.8,\"#7fbc41\"],[0.9,\"#4d9221\"],[1,\"#276419\"]]},\"xaxis\":{\"gridcolor\":\"white\",\"linecolor\":\"white\",\"ticks\":\"\",\"title\":{\"standoff\":15},\"zerolinecolor\":\"white\",\"automargin\":true,\"zerolinewidth\":2},\"yaxis\":{\"gridcolor\":\"white\",\"linecolor\":\"white\",\"ticks\":\"\",\"title\":{\"standoff\":15},\"zerolinecolor\":\"white\",\"automargin\":true,\"zerolinewidth\":2},\"scene\":{\"xaxis\":{\"backgroundcolor\":\"#E5ECF6\",\"gridcolor\":\"white\",\"linecolor\":\"white\",\"showbackground\":true,\"ticks\":\"\",\"zerolinecolor\":\"white\",\"gridwidth\":2},\"yaxis\":{\"backgroundcolor\":\"#E5ECF6\",\"gridcolor\":\"white\",\"linecolor\":\"white\",\"showbackground\":true,\"ticks\":\"\",\"zerolinecolor\":\"white\",\"gridwidth\":2},\"zaxis\":{\"backgroundcolor\":\"#E5ECF6\",\"gridcolor\":\"white\",\"linecolor\":\"white\",\"showbackground\":true,\"ticks\":\"\",\"zerolinecolor\":\"white\",\"gridwidth\":2}},\"shapedefaults\":{\"line\":{\"color\":\"#2a3f5f\"}},\"annotationdefaults\":{\"arrowcolor\":\"#2a3f5f\",\"arrowhead\":0,\"arrowwidth\":1},\"geo\":{\"bgcolor\":\"white\",\"landcolor\":\"#E5ECF6\",\"subunitcolor\":\"white\",\"showland\":true,\"showlakes\":true,\"lakecolor\":\"white\"},\"title\":{\"x\":0.05},\"mapbox\":{\"style\":\"light\"}}},\"xaxis\":{\"anchor\":\"y\",\"domain\":[0.0,1.0],\"title\":{\"text\":\"index\"}},\"yaxis\":{\"anchor\":\"x\",\"domain\":[0.0,1.0],\"title\":{\"text\":\"value\"}},\"legend\":{\"title\":{\"text\":\"variable\"},\"tracegroupgap\":0},\"margin\":{\"t\":60}},                        {\"responsive\": true}                    ).then(function(){\n",
       "                            \n",
       "var gd = document.getElementById('605659e6-72a3-446f-8184-56d5069d3282');\n",
       "var x = new MutationObserver(function (mutations, observer) {{\n",
       "        var display = window.getComputedStyle(gd).display;\n",
       "        if (!display || display === 'none') {{\n",
       "            console.log([gd, 'removed!']);\n",
       "            Plotly.purge(gd);\n",
       "            observer.disconnect();\n",
       "        }}\n",
       "}});\n",
       "\n",
       "// Listen for the removal of the full notebook cells\n",
       "var notebookContainer = gd.closest('#notebook-container');\n",
       "if (notebookContainer) {{\n",
       "    x.observe(notebookContainer, {childList: true});\n",
       "}}\n",
       "\n",
       "// Listen for the clearing of the current output cell\n",
       "var outputEl = gd.closest('.output');\n",
       "if (outputEl) {{\n",
       "    x.observe(outputEl, {childList: true});\n",
       "}}\n",
       "\n",
       "                        })                };                });            </script>        </div>"
      ]
     },
     "metadata": {},
     "output_type": "display_data"
    }
   ],
   "source": [
    "import pandas as pd\n",
    "pd.options.plotting.backend = \"plotly\"\n",
    "\n",
    "entropia = pd.DataFrame({\"Entangling\": np.real(entropias), \"Non-Entangling\":np.real(entropias2)})\n",
    "entropia.plot()"
   ]
  },
  {
   "cell_type": "code",
   "execution_count": null,
   "id": "30be8566-9ac2-4151-99df-b7e3e49b3094",
   "metadata": {},
   "outputs": [],
   "source": []
  }
 ],
 "metadata": {
  "kernelspec": {
   "display_name": "PennyLane",
   "language": "python",
   "name": "pennylane"
  },
  "language_info": {
   "codemirror_mode": {
    "name": "ipython",
    "version": 3
   },
   "file_extension": ".py",
   "mimetype": "text/x-python",
   "name": "python",
   "nbconvert_exporter": "python",
   "pygments_lexer": "ipython3",
   "version": "3.9.15"
  }
 },
 "nbformat": 4,
 "nbformat_minor": 5
}
